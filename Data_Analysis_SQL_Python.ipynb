{
  "nbformat": 4,
  "nbformat_minor": 0,
  "metadata": {
    "colab": {
      "name": "Data_Analysis_SQL_Python.ipynb",
      "provenance": [],
      "authorship_tag": "ABX9TyOjteWBQbP1W37H7Z6NkOb2",
      "include_colab_link": true
    },
    "kernelspec": {
      "name": "python3",
      "display_name": "Python 3"
    },
    "language_info": {
      "name": "python"
    }
  },
  "cells": [
    {
      "cell_type": "markdown",
      "metadata": {
        "id": "view-in-github",
        "colab_type": "text"
      },
      "source": [
        "<a href=\"https://colab.research.google.com/github/hargurjeet/Data-Analysis-Using-Python/blob/main/Data_Analysis_SQL_Python.ipynb\" target=\"_parent\"><img src=\"https://colab.research.google.com/assets/colab-badge.svg\" alt=\"Open In Colab\"/></a>"
      ]
    },
    {
      "cell_type": "code",
      "execution_count": null,
      "metadata": {
        "id": "X_6a7TGNdCkQ"
      },
      "outputs": [],
      "source": [
        ""
      ]
    }
  ]
}